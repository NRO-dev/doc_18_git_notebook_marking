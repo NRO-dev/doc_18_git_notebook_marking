{
 "cells": [
  {
   "cell_type": "markdown",
   "metadata": {},
   "source": [
    "#Error of the Median filter, sine wave with white noise and different wave numbers (2015.10.14 KT DW)"
   ]
  },
  {
   "cell_type": "code",
   "execution_count": 42,
   "metadata": {
    "collapsed": true
   },
   "outputs": [],
   "source": [
    "import numpy as np\n",
    "import matplotlib.pyplot as plt\n",
    "from matplotlib.backends.backend_pdf import PdfPages"
   ]
  },
  {
   "cell_type": "code",
   "execution_count": 43,
   "metadata": {
    "collapsed": true
   },
   "outputs": [],
   "source": [
    "%matplotlib inline"
   ]
  },
  {
   "cell_type": "code",
   "execution_count": 44,
   "metadata": {
    "collapsed": true
   },
   "outputs": [],
   "source": [
    "def medianFilter( data, windowLength ): \n",
    "    if (windowLength < len(data)and data.ndim == 1):\n",
    "        tempret = np.zeros(len(data)-windowLength+1)\n",
    "        if windowLength % 2 ==0:\n",
    "            for c in range(0, len(tempret)):\n",
    "                tempret[c] = np.median( data[ c : c + windowLength +1 ] )\n",
    "            return tempret\n",
    "        else:\n",
    "            for c in range(0, len(tempret)):\n",
    "                tempret[c] = np.median( data[ c : c + windowLength ] )\n",
    "            return tempret\n",
    "    else:\n",
    "         raise ValueError(\"windowLength must be smaller than len(data) and data must be a 1D array\")"
   ]
  },
  {
   "cell_type": "code",
   "execution_count": 45,
   "metadata": {
    "collapsed": true
   },
   "outputs": [],
   "source": [
    "def ErrorRate(signal, datafiltered,wavenumber, windowLength):\n",
    "    #calculate the difference between the sine wave and the filtered wave\n",
    "    errorrate = signal-datafiltered\n",
    "    #creating a list and save the error rate (y) and window length (x) in it\n",
    "    error = []\n",
    "    errorrate = np.abs(errorrate)\n",
    "    error.append([wavenumber ,np.mean(errorrate)])\n",
    "    #zip the error list\n",
    "    error = zip(*error)\n",
    "    return error"
   ]
  },
  {
   "cell_type": "code",
   "execution_count": 46,
   "metadata": {
    "collapsed": true
   },
   "outputs": [],
   "source": [
    "def Errorplot( wavenumber, windowLength ):\n",
    "    data = np.fromfunction( lambda x: np.sin((x-windowLength / 2)/128 * 2 * np.pi * wavenumber), (128 + windowLength / 2, ) )\n",
    "    noise = np.random.normal(0,0.5,(128 + windowLength / 2))\n",
    "    signal = data + noise\n",
    "    datafiltered = medianFilter(signal, windowLength)\n",
    "    signal = signal[ windowLength / 2 : - windowLength ]\n",
    "    datafiltered = datafiltered[ : len(signal) ]\n",
    "    error = ErrorRate(signal,datafiltered,wavenumber,windowLength)\n",
    "    plt.axis([0, x + 1, 0, 1])\n",
    "    plt.xlabel('Wave number', fontsize = 20)\n",
    "    plt.ylabel('Error rate', fontsize = 20)\n",
    "    plt.scatter(*error)"
   ]
  },
  {
   "cell_type": "code",
   "execution_count": 50,
   "metadata": {
    "collapsed": false,
    "scrolled": true
   },
   "outputs": [
    {
     "data": {
      "image/png": "[encoded data removed]",
      "text/plain": [
       "<matplotlib.figure.Figure at 0xbe8f940>"
      ]
     },
     "metadata": {},
     "output_type": "display_data"
    }
   ],
   "source": [
    "fig = plt.figure()\n",
    "for x in range (0,50):\n",
    "    Errorplot(x,5)"
   ]
  },
  {
   "cell_type": "code",
   "execution_count": 48,
   "metadata": {
    "collapsed": true
   },
   "outputs": [],
   "source": [
    "pp = PdfPages( 'Error of the median filtered sine waves with white noise and different wave numbers.pdf')\n",
    "pp.savefig(fig)\n",
    "pp.close()"
   ]
  }
 ],
 "metadata": {
  "kernelspec": {
   "display_name": "Python 2",
   "language": "python",
   "name": "python2"
  },
  "language_info": {
   "codemirror_mode": {
    "name": "ipython",
    "version": 2
   },
   "file_extension": ".py",
   "mimetype": "text/x-python",
   "name": "python",
   "nbconvert_exporter": "python",
   "pygments_lexer": "ipython2",
   "version": "2.7.10"
  }
 },
 "nbformat": 4,
 "nbformat_minor": 0
}
