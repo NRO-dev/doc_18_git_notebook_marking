{
 "cells": [
  {
   "cell_type": "markdown",
   "metadata": {},
   "source": [
    "# New RMS for Overlapping Spikes"
   ]
  },
  {
   "cell_type": "code",
   "execution_count": 1,
   "metadata": {
    "collapsed": true
   },
   "outputs": [],
   "source": [
    "import numpy as np\n",
    "import matplotlib.pyplot as plt\n",
    "from scipy.signal import medfilt\n",
    "import gitInformation"
   ]
  },
  {
   "cell_type": "code",
   "execution_count": 2,
   "metadata": {
    "collapsed": false
   },
   "outputs": [
    {
     "name": "stdout",
     "output_type": "stream",
     "text": [
      "Information about this notebook\n",
      "============================================================\n",
      "Date: 2016-11-15\n",
      "Python Version: 2.7.10 |Anaconda 2.3.0 (64-bit)| (default, May 28 2015, 16:44:52) [MSC v.1500 64 bit (AMD64)]\n",
      "Git directory: C:\\Users\\Dowa\\Desktop\\IpythonNotebook\\kt-2015-DSPHandsOn\\.git\n",
      "Current git SHA: 8bd95795b66b6beab499b0a2c829d11705e8d7fb\n",
      "Remotes: origin, \n",
      "Current branch: master\n",
      "origin remote URL: https://github.com/dowa4213/kt-2015-DSPHandsOn.git\n"
     ]
    }
   ],
   "source": [
    "gitInformation.printInformation()"
   ]
  },
  {
   "cell_type": "code",
   "execution_count": 3,
   "metadata": {
    "collapsed": true
   },
   "outputs": [],
   "source": [
    "% matplotlib inline"
   ]
  },
  {
   "cell_type": "markdown",
   "metadata": {},
   "source": [
    "### Generate all needed signals"
   ]
  },
  {
   "cell_type": "code",
   "execution_count": 4,
   "metadata": {
    "collapsed": true
   },
   "outputs": [],
   "source": [
    "# Overlapping traingles(used as spikes) with different width.\n",
    "tri1 = np.array([0, 1, 2, 3, 4, 5, 4, 3, 2, 1, 2, 3, 4, 5, 4, 3, 2, 1, 0])\n",
    "tri1 = tri1/5.\n",
    "tri2 = np.array([0, 1, 2, 3, 4, 5, 4, 3, 2, 3, 4, 5, 4, 3, 2, 1, 0])\n",
    "tri2 = tri2/5.\n",
    "tri3 = np.array([0, 1, 2, 3, 4, 5, 4, 3,  4, 5, 4, 3, 2, 1, 0])\n",
    "tri3 = tri3/5.\n",
    "tri4 = np.array([0, 1, 2, 3, 4, 5, 6, 7, 8, 7, 6, 5, 4, 3,  4, 5, 6, 7, 8, 7, 6, 5, 4, 3, 2, 1, 0])\n",
    "tri4 = tri4/8."
   ]
  },
  {
   "cell_type": "code",
   "execution_count": 5,
   "metadata": {
    "collapsed": false
   },
   "outputs": [],
   "source": [
    "# Append multiple overlappings spikes with a gap of 30 between them\n",
    "x = np.zeros(30)\n",
    "data1 = np.append(tri1,x)\n",
    "for i in range(5):\n",
    "    data1 = np.append(data1,tri1)\n",
    "    data1 = np.append(data1,x)"
   ]
  },
  {
   "cell_type": "code",
   "execution_count": 6,
   "metadata": {
    "collapsed": true
   },
   "outputs": [],
   "source": [
    "data2 = np.append(tri2,x)\n",
    "for i in range(5):\n",
    "    data2 = np.append(data2,tri2)\n",
    "    data2 = np.append(data2,x)"
   ]
  },
  {
   "cell_type": "code",
   "execution_count": 7,
   "metadata": {
    "collapsed": true
   },
   "outputs": [],
   "source": [
    "data3 = np.append(tri3,x)\n",
    "for i in range(5):\n",
    "    data3 = np.append(data3,tri3)\n",
    "    data3 = np.append(data3,x)"
   ]
  },
  {
   "cell_type": "code",
   "execution_count": 8,
   "metadata": {
    "collapsed": true
   },
   "outputs": [],
   "source": [
    "data4 = np.append(tri4,x)\n",
    "for i in range(5):\n",
    "    data4 = np.append(data4,tri4)\n",
    "    data4 = np.append(data4,x)"
   ]
  },
  {
   "cell_type": "markdown",
   "metadata": {},
   "source": [
    "### Calculation for new RMS"
   ]
  },
  {
   "cell_type": "code",
   "execution_count": 9,
   "metadata": {
    "collapsed": false
   },
   "outputs": [],
   "source": [
    "wl = np.array([3, 5, 11, 15, 17, 21, 25, 31, 35, 39, 45, 47, 51, 55, 57, 61, 75])"
   ]
  },
  {
   "cell_type": "code",
   "execution_count": 10,
   "metadata": {
    "collapsed": true
   },
   "outputs": [],
   "source": [
    "filtered1 = np.zeros((140, len(data1)))\n",
    "filtered_spikes = np.zeros((140, len(data1)))\n",
    "rms = np.zeros(140)\n",
    "values1 = np.zeros(len(wl))\n",
    "count = -1\n",
    "for w in wl:\n",
    "    count += 1\n",
    "    for i in range(len(filtered1)):\n",
    "        data1_noised = data1 + np.random.normal(0, 0.15, len(data1))\n",
    "        filtered1[i,:] = medfilt(data1, w)\n",
    "        filtered_spikes[i,:] = data1_noised - filtered1[i,:]\n",
    "        rms[i] = np.sqrt(np.mean(np.square(filtered_spikes[i,:])))\n",
    "    mean = np.mean(rms)\n",
    "    values1[count] = mean "
   ]
  },
  {
   "cell_type": "code",
   "execution_count": 11,
   "metadata": {
    "collapsed": true
   },
   "outputs": [],
   "source": [
    "filtered2 = np.zeros((140, len(data2)))\n",
    "filtered_spikes = np.zeros((140, len(data2)))\n",
    "rms = np.zeros(140)\n",
    "values2 = np.zeros(len(wl))\n",
    "count = -1\n",
    "for w in wl:\n",
    "    count += 1\n",
    "    for i in range(len(filtered2)):\n",
    "        data2_noised = data2 + np.random.normal(0, 0.15, len(data2))\n",
    "        filtered2[i,:] = medfilt(data2, w)\n",
    "        filtered_spikes[i,:] = data2_noised - filtered2[i,:]\n",
    "        rms[i] = np.sqrt(np.mean(np.square(filtered_spikes[i,:])))\n",
    "    mean = np.mean(rms)\n",
    "    values2[count] = mean "
   ]
  },
  {
   "cell_type": "code",
   "execution_count": 12,
   "metadata": {
    "collapsed": true
   },
   "outputs": [],
   "source": [
    "filtered3 = np.zeros((140, len(data3)))\n",
    "filtered_spikes = np.zeros((140, len(data3)))\n",
    "rms = np.zeros(140)\n",
    "values3 = np.zeros(len(wl))\n",
    "count = -1\n",
    "for w in wl:\n",
    "    count += 1\n",
    "    for i in range(len(filtered3)):\n",
    "        data3_noised = data3 + np.random.normal(0, 0.15, len(data3))\n",
    "        filtered3[i,:] = medfilt(data3, w)\n",
    "        filtered_spikes[i,:] = data3_noised - filtered3[i,:]\n",
    "        rms[i] = np.sqrt(np.mean(np.square(filtered_spikes[i,:])))\n",
    "    mean = np.mean(rms)\n",
    "    values3[count] = mean "
   ]
  },
  {
   "cell_type": "code",
   "execution_count": 13,
   "metadata": {
    "collapsed": true
   },
   "outputs": [],
   "source": [
    "filtered4 = np.zeros((140, len(data4)))\n",
    "filtered_spikes = np.zeros((140, len(data4)))\n",
    "rms = np.zeros(140)\n",
    "values4 = np.zeros(len(wl))\n",
    "count = -1\n",
    "for w in wl:\n",
    "    count += 1\n",
    "    for i in range(len(filtered4)):\n",
    "        data4_noised = data4 + np.random.normal(0, 0.15, len(data4))\n",
    "        filtered4[i,:] = medfilt(data4, w)\n",
    "        filtered_spikes[i,:] = data4_noised - filtered4[i,:]\n",
    "        rms[i] = np.sqrt(np.mean(np.square(filtered_spikes[i,:])))\n",
    "    mean = np.mean(rms)\n",
    "    values4[count] = mean "
   ]
  },
  {
   "cell_type": "markdown",
   "metadata": {},
   "source": [
    "### Plot of RMS with different standard deviation of noise and different peak-peak distance"
   ]
  },
  {
   "cell_type": "code",
   "execution_count": 16,
   "metadata": {
    "collapsed": true
   },
   "outputs": [],
   "source": [
    "#viridis colormap for better visualisation \n",
    "viridis_data = np.loadtxt(\"viridis_data.txt\")"
   ]
  },
  {
   "cell_type": "code",
   "execution_count": 15,
   "metadata": {
    "collapsed": false
   },
   "outputs": [
    {
     "data": {
      "image/png": "[encoded data removed]",
      "text/plain": [
       "<matplotlib.figure.Figure at 0xbbc00f0>"
      ]
     },
     "metadata": {},
     "output_type": "display_data"
    }
   ],
   "source": [
    "plt.figure()\n",
    "plt.plot(wl, values1, color = viridis_data[75,:], label = 'Peak-Peak = 8 samples')\n",
    "plt.plot(wl, values2, color = viridis_data[150,:], label = 'Peak-Peak = 6 samples')\n",
    "plt.plot(wl, values3, color = viridis_data[225,:], label = 'Peak-Peak = 4 samples')\n",
    "plt.plot(wl, values4, color = viridis_data[250,:], label = 'Peak-Peak = 4 samples')\n",
    "plt.title(\"Overlapping Spikes\", size = 15)\n",
    "plt.ylabel('RMS', fontsize = 15)\n",
    "plt.xlabel('Window lentgh', fontsize = 15)\n",
    "plt.legend(loc='lower right',prop={'size':10})\n",
    "plt.savefig('Oerlapping spikes.png', dpi = 600)"
   ]
  }
 ],
 "metadata": {
  "kernelspec": {
   "display_name": "Python 2",
   "language": "python",
   "name": "python2"
  },
  "language_info": {
   "codemirror_mode": {
    "name": "ipython",
    "version": 2
   },
   "file_extension": ".py",
   "mimetype": "text/x-python",
   "name": "python",
   "nbconvert_exporter": "python",
   "pygments_lexer": "ipython2",
   "version": "2.7.10"
  }
 },
 "nbformat": 4,
 "nbformat_minor": 0
}
