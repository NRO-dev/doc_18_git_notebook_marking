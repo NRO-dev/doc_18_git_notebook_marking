{
 "cells": [
  {
   "cell_type": "markdown",
   "metadata": {},
   "source": [
    "# Tests for Fast DTW and Threshold in tetrode data"
   ]
  },
  {
   "cell_type": "markdown",
   "metadata": {
    "collapsed": true
   },
   "source": [
    "## 2016.01.29"
   ]
  },
  {
   "cell_type": "code",
   "execution_count": 1,
   "metadata": {
    "collapsed": true
   },
   "outputs": [],
   "source": [
    "import numpy as np\n",
    "import matplotlib.pyplot as plt\n",
    "from scipy.signal import medfilt\n",
    "import math\n",
    "import gitInformation\n",
    "from neo.io import NeuralynxIO\n",
    "import sklearn\n",
    "from scipy.interpolate import Rbf\n",
    "import fastdtw\n",
    "import time"
   ]
  },
  {
   "cell_type": "code",
   "execution_count": 2,
   "metadata": {
    "collapsed": false
   },
   "outputs": [
    {
     "name": "stdout",
     "output_type": "stream",
     "text": [
      "Information about this notebook\n",
      "============================================================\n",
      "Date: 2016-01-29\n",
      "Python Version: 2.7.10 |Anaconda 2.3.0 (64-bit)| (default, May 28 2015, 16:44:52) [MSC v.1500 64 bit (AMD64)]\n",
      "Git directory: C:\\Users\\Dominik\\Documents\\GitRep\\kt-2015-DSPHandsOn\\.git\n",
      "Current git SHA: e6d8cd8a76886c134c66e781ccd5c61afc7f9e75\n",
      "Remotes: origin, \n",
      "Current branch: master\n",
      "origin remote URL: https://github.com/dowa4213/kt-2015-DSPHandsOn.git\n"
     ]
    }
   ],
   "source": [
    "gitInformation.printInformation()"
   ]
  },
  {
   "cell_type": "code",
   "execution_count": 3,
   "metadata": {
    "collapsed": true
   },
   "outputs": [],
   "source": [
    "# Session folder with all needed neuralynx files\n",
    "sessionfolder = 'C:\\\\Users\\\\Dominik\\\\Documents\\\\GitRep\\\\kt-2015-DSPHandsOn\\\\MedianFilter\\\\Python\\\\08. Tests'"
   ]
  },
  {
   "cell_type": "code",
   "execution_count": 4,
   "metadata": {
    "collapsed": true
   },
   "outputs": [],
   "source": [
    "NIO = NeuralynxIO(sessiondir = sessionfolder, cachedir = sessionfolder)\n",
    "block = NIO.read_block()\n",
    "seg = block.segments[0]"
   ]
  },
  {
   "cell_type": "code",
   "execution_count": 5,
   "metadata": {
    "collapsed": true
   },
   "outputs": [],
   "source": [
    "analogsignals = {}\n",
    "# Save all recorded datas in a analogsignals dictionary.\n",
    "for i in range(len(seg.analogsignalarrays)):\n",
    "    analogsignals[\"analogsignal{0}\".format(i)] = seg.analogsignalarrays[i]"
   ]
  },
  {
   "cell_type": "code",
   "execution_count": 7,
   "metadata": {
    "collapsed": false
   },
   "outputs": [],
   "source": [
    "csc = {}\n",
    "count = -1\n",
    "# Extract the magnitude of each data.\n",
    "for i in analogsignals:\n",
    "    csc[\"csc{0}\".format(i[-1])] = analogsignals[i].magnitude"
   ]
  },
  {
   "cell_type": "code",
   "execution_count": null,
   "metadata": {
    "collapsed": true
   },
   "outputs": [],
   "source": []
  }
 ],
 "metadata": {
  "kernelspec": {
   "display_name": "Python 2",
   "language": "python",
   "name": "python2"
  },
  "language_info": {
   "codemirror_mode": {
    "name": "ipython",
    "version": 2
   },
   "file_extension": ".py",
   "mimetype": "text/x-python",
   "name": "python",
   "nbconvert_exporter": "python",
   "pygments_lexer": "ipython2",
   "version": "2.7.10"
  }
 },
 "nbformat": 4,
 "nbformat_minor": 0
}
