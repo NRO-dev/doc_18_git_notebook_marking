{
 "cells": [
  {
   "cell_type": "code",
   "execution_count": 5,
   "metadata": {
    "collapsed": false
   },
   "outputs": [],
   "source": [
    "import numpy as np\n",
    "import matplotlib.pyplot as plt\n",
    "from scipy.signal import medfilt, triang\n",
    "import gitInformation"
   ]
  },
  {
   "cell_type": "code",
   "execution_count": 4,
   "metadata": {
    "collapsed": true
   },
   "outputs": [],
   "source": [
    "%matplotlib inline"
   ]
  },
  {
   "cell_type": "code",
   "execution_count": 10,
   "metadata": {
    "collapsed": true
   },
   "outputs": [],
   "source": [
    "tri = triang(11)\n",
    "x = np.zeros(67)\n",
    "data = np.append(tri,x)\n",
    "data = np.append(x,data)\n",
    "diff_noise = np.zeros((140,len(data)))\n",
    "noised_data = np.zeros((140,len(data)))\n",
    "medfilter = np.zeros((140,len(data)))\n",
    "filtered_data = np.zeros((140,len(data)))\n",
    "behav = np.zeros(140)\n",
    "wl = [3, 5, 7, 11, 15, 19, 23, 25, 27]\n",
    "stdsn = [0.33333333, 0.25, 0.2, 0.1666667, 0.142857, 0.125, 0.11111111, 0.1]"
   ]
  },
  {
   "cell_type": "code",
   "execution_count": 13,
   "metadata": {
    "collapsed": false
   },
   "outputs": [],
   "source": [
    "values = np.zeros((len(wl), len(stdsn)))\n",
    "count = -1\n",
    "count2 = -1\n",
    "for s in stdsn:\n",
    "    count = count + 1\n",
    "    for w in wl:\n",
    "        count2 = count2 + 1\n",
    "        for i in range (len(diff_noise)):\n",
    "            diff_noise[i, :] = np.random.normal(0, s, len(data))\n",
    "            noised_data[i, :] = data + diff_noise[i, :]\n",
    "            medfilter[i, :] = medfilt(noised_data[i, :], w)\n",
    "            filtered_data[i, :] = noised_data[i, :] - medfilter[i, :]\n",
    "            behav[i] = np.sqrt(np.mean(np.square(filtered_data[i, :])))\n",
    "        mean = np.mean(behav)   \n",
    "        values[count2:count2+1:,-count] = mean\n",
    "    count2 = -1\n",
    "np.savetxt(\"valuesspikes2.txt\", values)"
   ]
  },
  {
   "cell_type": "code",
   "execution_count": 16,
   "metadata": {
    "collapsed": true
   },
   "outputs": [],
   "source": [
    "viridis_data = np.loadtxt(\"viridis_data.txt\")"
   ]
  },
  {
   "cell_type": "code",
   "execution_count": 19,
   "metadata": {
    "collapsed": false
   },
   "outputs": [
    {
     "data": {
      "image/png": "[encoded data removed]",
      "text/plain": [
       "<matplotlib.figure.Figure at 0x173aaa58>"
      ]
     },
     "metadata": {},
     "output_type": "display_data"
    }
   ],
   "source": [
    "plt.figure()\n",
    "for i in range (8):\n",
    "    plt.axis([0, max(wl) + 3, 0, .5])\n",
    "    plt.title(\"Noised Spike\", size = 15) \n",
    "    plt.xlabel('Window length', fontsize = 15)\n",
    "    plt.ylabel('RMS', fontsize = 15)\n",
    "    plt.plot(wl,values[:,i], color=viridis_data[((i)*25)-25,:])\n",
    "    plt.plot(np.std(data))\n",
    "plt.savefig('Behavior given noise different wl spike.png', dpi = 600)"
   ]
  },
  {
   "cell_type": "code",
   "execution_count": null,
   "metadata": {
    "collapsed": true
   },
   "outputs": [],
   "source": []
  }
 ],
 "metadata": {
  "kernelspec": {
   "display_name": "Python 2",
   "language": "python",
   "name": "python2"
  },
  "language_info": {
   "codemirror_mode": {
    "name": "ipython",
    "version": 2
   },
   "file_extension": ".py",
   "mimetype": "text/x-python",
   "name": "python",
   "nbconvert_exporter": "python",
   "pygments_lexer": "ipython2",
   "version": "2.7.10"
  }
 },
 "nbformat": 4,
 "nbformat_minor": 0
}
